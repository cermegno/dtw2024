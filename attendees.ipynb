{
 "cells": [
  {
   "cell_type": "markdown",
   "metadata": {},
   "source": [
    "# Attendee counter"
   ]
  },
  {
   "cell_type": "markdown",
   "metadata": {},
   "source": [
    "#### Grab YOLO model"
   ]
  },
  {
   "cell_type": "code",
   "execution_count": null,
   "metadata": {
    "colab": {
     "base_uri": "https://localhost:8080/"
    },
    "id": "kg9SpheQdIOB",
    "outputId": "5f0189f0-bd00-4f71-88a6-3920252135cc"
   },
   "outputs": [],
   "source": [
    "from ultralytics import YOLO\n",
    "model = YOLO(\"./yolov8m.pt\")\n",
    "model.info()"
   ]
  },
  {
   "cell_type": "markdown",
   "metadata": {},
   "source": [
    "#### Show image to analyze"
   ]
  },
  {
   "cell_type": "code",
   "execution_count": null,
   "metadata": {
    "colab": {
     "base_uri": "https://localhost:8080/",
     "height": 432
    },
    "id": "pXva5qNUhBC9",
    "outputId": "957c8893-d4a3-4b4a-fa59-1c99f4a61e6b"
   },
   "outputs": [],
   "source": [
    "from IPython.display import Image\n",
    "Image(filename='image.jpg')"
   ]
  },
  {
   "cell_type": "markdown",
   "metadata": {},
   "source": [
    "#### Analyze image"
   ]
  },
  {
   "cell_type": "code",
   "execution_count": null,
   "metadata": {
    "colab": {
     "base_uri": "https://localhost:8080/"
    },
    "id": "POOBchi9d2rs",
    "outputId": "4cd615cb-dda3-4a97-bda1-aa13a6154c0f"
   },
   "outputs": [],
   "source": [
    "results = model.predict(\"image.jpg\", save=True)\n",
    "result = results[0]\n",
    "result"
   ]
  },
  {
   "cell_type": "markdown",
   "metadata": {},
   "source": [
    "#### Show analyzed image"
   ]
  },
  {
   "cell_type": "code",
   "execution_count": null,
   "metadata": {
    "colab": {
     "base_uri": "https://localhost:8080/",
     "height": 432
    },
    "id": "FbwSLHQchOy2",
    "outputId": "c823e2e1-b722-403f-f7bc-16e7d87d4cf9"
   },
   "outputs": [],
   "source": [
    "from IPython.display import Image\n",
    "Image(filename='runs/detect/predict/image.jpg')"
   ]
  },
  {
   "cell_type": "code",
   "execution_count": null,
   "metadata": {
    "colab": {
     "base_uri": "https://localhost:8080/"
    },
    "id": "_43UkWGbe94x",
    "outputId": "7443d84f-15e1-4d5f-8cb1-44f90e251f99"
   },
   "outputs": [],
   "source": [
    "len(result.boxes)"
   ]
  },
  {
   "cell_type": "markdown",
   "metadata": {},
   "source": [
    "#### Show prediction details"
   ]
  },
  {
   "cell_type": "code",
   "execution_count": null,
   "metadata": {
    "colab": {
     "base_uri": "https://localhost:8080/"
    },
    "id": "B5RJ8E3zfV-S",
    "outputId": "eb20339c-354c-4606-e8cc-180b3a15162b"
   },
   "outputs": [],
   "source": [
    "for box in result.boxes:\n",
    "  class_id = result.names[box.cls[0].item()]\n",
    "  cords = box.xyxy[0].tolist()\n",
    "  cords = [round(x) for x in cords]\n",
    "  conf = round(box.conf[0].item(), 2)\n",
    "  print(\"Object type:\", class_id)\n",
    "  print(\"Coordinates:\", cords)\n",
    "  print(\"Probability:\", conf)\n",
    "  print(\"---\")"
   ]
  },
  {
   "cell_type": "markdown",
   "metadata": {},
   "source": [
    "#### Count the amount of people in the image"
   ]
  },
  {
   "cell_type": "code",
   "execution_count": null,
   "metadata": {
    "colab": {
     "base_uri": "https://localhost:8080/"
    },
    "id": "QKiyGYRff6OT",
    "outputId": "8a00e147-7243-4c7e-909a-aaffaea1919f"
   },
   "outputs": [],
   "source": [
    "num_attendees = 0\n",
    "for box in result.boxes:\n",
    "  #print(box.cls[0].item())\n",
    "  if box.cls[0].item() in [0]:\n",
    "    num_attendees += 1\n",
    "print(\"Amount of attendees:\", str(num_attendees))"
   ]
  },
  {
   "cell_type": "markdown",
   "metadata": {},
   "source": [
    "## Thanks for joining our session. Enjoy DTW 2024!!"
   ]
  },
  {
   "cell_type": "code",
   "execution_count": null,
   "metadata": {},
   "outputs": [],
   "source": []
  }
 ],
 "metadata": {
  "colab": {
   "provenance": []
  },
  "kernelspec": {
   "display_name": "Python 3 (ipykernel)",
   "language": "python",
   "name": "python3"
  },
  "language_info": {
   "codemirror_mode": {
    "name": "ipython",
    "version": 3
   },
   "file_extension": ".py",
   "mimetype": "text/x-python",
   "name": "python",
   "nbconvert_exporter": "python",
   "pygments_lexer": "ipython3",
   "version": "3.10.12"
  }
 },
 "nbformat": 4,
 "nbformat_minor": 4
}
